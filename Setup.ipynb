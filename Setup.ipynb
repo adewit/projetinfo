{
 "cells": [
  {
   "cell_type": "code",
   "execution_count": 1,
   "id": "c8ad2b6a-2857-48df-a280-780a649b2bc9",
   "metadata": {
    "tags": []
   },
   "outputs": [
    {
     "name": "stdout",
     "output_type": "stream",
     "text": [
      "Requirement already satisfied: numpy in /Users/adinda/Library/jupyterlab-desktop/jlab_server/lib/python3.8/site-packages (1.24.4)\n",
      "Note: you may need to restart the kernel to use updated packages.\n",
      "Collecting uproot\n",
      "  Downloading uproot-5.2.1-py3-none-any.whl.metadata (30 kB)\n",
      "Collecting awkward\n",
      "  Downloading awkward-2.5.2-py3-none-any.whl.metadata (6.9 kB)\n",
      "Collecting fsspec (from uproot)\n",
      "  Downloading fsspec-2023.12.2-py3-none-any.whl.metadata (6.8 kB)\n",
      "Requirement already satisfied: numpy in /Users/adinda/Library/jupyterlab-desktop/jlab_server/lib/python3.8/site-packages (from uproot) (1.24.4)\n",
      "Requirement already satisfied: packaging in /Users/adinda/Library/jupyterlab-desktop/jlab_server/lib/python3.8/site-packages (from uproot) (23.2)\n",
      "Requirement already satisfied: typing-extensions>=4.1.0 in /Users/adinda/Library/jupyterlab-desktop/jlab_server/lib/python3.8/site-packages (from uproot) (4.8.0)\n",
      "Collecting awkward-cpp==28 (from awkward)\n",
      "  Downloading awkward_cpp-28-cp38-cp38-macosx_10_9_universal2.whl.metadata (2.2 kB)\n",
      "Requirement already satisfied: importlib-metadata>=4.13.0 in /Users/adinda/Library/jupyterlab-desktop/jlab_server/lib/python3.8/site-packages (from awkward) (6.8.0)\n",
      "Requirement already satisfied: importlib_resources in /Users/adinda/Library/jupyterlab-desktop/jlab_server/lib/python3.8/site-packages (from awkward-cpp==28->awkward) (6.1.0)\n",
      "Requirement already satisfied: zipp>=0.5 in /Users/adinda/Library/jupyterlab-desktop/jlab_server/lib/python3.8/site-packages (from importlib-metadata>=4.13.0->awkward) (3.17.0)\n",
      "Downloading uproot-5.2.1-py3-none-any.whl (343 kB)\n",
      "\u001b[2K   \u001b[90m━━━━━━━━━━━━━━━━━━━━━━━━━━━━━━━━━━━━━━━━\u001b[0m \u001b[32m343.8/343.8 kB\u001b[0m \u001b[31m15.2 MB/s\u001b[0m eta \u001b[36m0:00:00\u001b[0m\n",
      "\u001b[?25hDownloading awkward-2.5.2-py3-none-any.whl (742 kB)\n",
      "\u001b[2K   \u001b[90m━━━━━━━━━━━━━━━━━━━━━━━━━━━━━━━━━━━━━━━━\u001b[0m \u001b[32m742.2/742.2 kB\u001b[0m \u001b[31m38.8 MB/s\u001b[0m eta \u001b[36m0:00:00\u001b[0m\n",
      "\u001b[?25hDownloading awkward_cpp-28-cp38-cp38-macosx_10_9_universal2.whl (1.2 MB)\n",
      "\u001b[2K   \u001b[90m━━━━━━━━━━━━━━━━━━━━━━━━━━━━━━━━━━━━━━━━\u001b[0m \u001b[32m1.2/1.2 MB\u001b[0m \u001b[31m6.6 MB/s\u001b[0m eta \u001b[36m0:00:00\u001b[0mta \u001b[36m0:00:01\u001b[0m\n",
      "\u001b[?25hDownloading fsspec-2023.12.2-py3-none-any.whl (168 kB)\n",
      "\u001b[2K   \u001b[90m━━━━━━━━━━━━━━━━━━━━━━━━━━━━━━━━━━━━━━━━\u001b[0m \u001b[32m169.0/169.0 kB\u001b[0m \u001b[31m18.5 MB/s\u001b[0m eta \u001b[36m0:00:00\u001b[0m\n",
      "\u001b[?25hInstalling collected packages: fsspec, awkward-cpp, awkward, uproot\n",
      "Successfully installed awkward-2.5.2 awkward-cpp-28 fsspec-2023.12.2 uproot-5.2.1\n",
      "Note: you may need to restart the kernel to use updated packages.\n",
      "Collecting boost-histogram\n",
      "  Downloading boost_histogram-1.4.0-cp38-cp38-macosx_10_9_universal2.whl.metadata (26 kB)\n",
      "Requirement already satisfied: numpy in /Users/adinda/Library/jupyterlab-desktop/jlab_server/lib/python3.8/site-packages (from boost-histogram) (1.24.4)\n",
      "Downloading boost_histogram-1.4.0-cp38-cp38-macosx_10_9_universal2.whl (3.3 MB)\n",
      "\u001b[2K   \u001b[90m━━━━━━━━━━━━━━━━━━━━━━━━━━━━━━━━━━━━━━━━\u001b[0m \u001b[32m3.3/3.3 MB\u001b[0m \u001b[31m5.6 MB/s\u001b[0m eta \u001b[36m0:00:00\u001b[0m00:01\u001b[0m00:01\u001b[0mm\n",
      "\u001b[?25hInstalling collected packages: boost-histogram\n",
      "Successfully installed boost-histogram-1.4.0\n",
      "Note: you may need to restart the kernel to use updated packages.\n",
      "Collecting vector\n",
      "  Downloading vector-1.1.1.post1-py3-none-any.whl.metadata (34 kB)\n",
      "Requirement already satisfied: numpy>=1.13.3 in /Users/adinda/Library/jupyterlab-desktop/jlab_server/lib/python3.8/site-packages (from vector) (1.24.4)\n",
      "Requirement already satisfied: packaging>=19 in /Users/adinda/Library/jupyterlab-desktop/jlab_server/lib/python3.8/site-packages (from vector) (23.2)\n",
      "Downloading vector-1.1.1.post1-py3-none-any.whl (171 kB)\n",
      "\u001b[2K   \u001b[90m━━━━━━━━━━━━━━━━━━━━━━━━━━━━━━━━━━━━━━━━\u001b[0m \u001b[32m171.3/171.3 kB\u001b[0m \u001b[31m7.9 MB/s\u001b[0m eta \u001b[36m0:00:00\u001b[0m\n",
      "\u001b[?25hInstalling collected packages: vector\n",
      "Successfully installed vector-1.1.1.post1\n",
      "Note: you may need to restart the kernel to use updated packages.\n",
      "Collecting numba\n",
      "  Downloading numba-0.58.1-cp38-cp38-macosx_11_0_arm64.whl.metadata (2.7 kB)\n",
      "Collecting llvmlite<0.42,>=0.41.0dev0 (from numba)\n",
      "  Downloading llvmlite-0.41.1-cp38-cp38-macosx_11_0_arm64.whl.metadata (4.8 kB)\n",
      "Requirement already satisfied: numpy<1.27,>=1.22 in /Users/adinda/Library/jupyterlab-desktop/jlab_server/lib/python3.8/site-packages (from numba) (1.24.4)\n",
      "Requirement already satisfied: importlib-metadata in /Users/adinda/Library/jupyterlab-desktop/jlab_server/lib/python3.8/site-packages (from numba) (6.8.0)\n",
      "Requirement already satisfied: zipp>=0.5 in /Users/adinda/Library/jupyterlab-desktop/jlab_server/lib/python3.8/site-packages (from importlib-metadata->numba) (3.17.0)\n",
      "Downloading numba-0.58.1-cp38-cp38-macosx_11_0_arm64.whl (2.6 MB)\n",
      "\u001b[2K   \u001b[90m━━━━━━━━━━━━━━━━━━━━━━━━━━━━━━━━━━━━━━━━\u001b[0m \u001b[32m2.6/2.6 MB\u001b[0m \u001b[31m34.6 MB/s\u001b[0m eta \u001b[36m0:00:00\u001b[0ma \u001b[36m0:00:01\u001b[0m\n",
      "\u001b[?25hDownloading llvmlite-0.41.1-cp38-cp38-macosx_11_0_arm64.whl (28.8 MB)\n",
      "\u001b[2K   \u001b[90m━━━━━━━━━━━━━━━━━━━━━━━━━━━━━━━━━━━━━━━━\u001b[0m \u001b[32m28.8/28.8 MB\u001b[0m \u001b[31m17.1 MB/s\u001b[0m eta \u001b[36m0:00:00\u001b[0m00:01\u001b[0m00:01\u001b[0m\n",
      "\u001b[?25hInstalling collected packages: llvmlite, numba\n",
      "Successfully installed llvmlite-0.41.1 numba-0.58.1\n",
      "Note: you may need to restart the kernel to use updated packages.\n",
      "Collecting mplhep\n",
      "  Downloading mplhep-0.3.31-py3-none-any.whl.metadata (10 kB)\n",
      "Requirement already satisfied: matplotlib>=3.4 in /Users/adinda/Library/jupyterlab-desktop/jlab_server/lib/python3.8/site-packages (from mplhep) (3.7.3)\n",
      "Collecting mplhep-data (from mplhep)\n",
      "  Downloading mplhep_data-0.0.3-py3-none-any.whl (5.8 MB)\n",
      "\u001b[2K     \u001b[90m━━━━━━━━━━━━━━━━━━━━━━━━━━━━━━━━━━━━━━━━\u001b[0m \u001b[32m5.8/5.8 MB\u001b[0m \u001b[31m4.7 MB/s\u001b[0m eta \u001b[36m0:00:00\u001b[0ma \u001b[36m0:00:01\u001b[0mm\n",
      "\u001b[?25hRequirement already satisfied: numpy>=1.16.0 in /Users/adinda/Library/jupyterlab-desktop/jlab_server/lib/python3.8/site-packages (from mplhep) (1.24.4)\n",
      "Requirement already satisfied: packaging in /Users/adinda/Library/jupyterlab-desktop/jlab_server/lib/python3.8/site-packages (from mplhep) (23.2)\n",
      "Collecting uhi>=0.2.0 (from mplhep)\n",
      "  Downloading uhi-0.4.0-py3-none-any.whl.metadata (7.2 kB)\n",
      "Requirement already satisfied: contourpy>=1.0.1 in /Users/adinda/Library/jupyterlab-desktop/jlab_server/lib/python3.8/site-packages (from matplotlib>=3.4->mplhep) (1.1.1)\n",
      "Requirement already satisfied: cycler>=0.10 in /Users/adinda/Library/jupyterlab-desktop/jlab_server/lib/python3.8/site-packages (from matplotlib>=3.4->mplhep) (0.12.1)\n",
      "Requirement already satisfied: fonttools>=4.22.0 in /Users/adinda/Library/jupyterlab-desktop/jlab_server/lib/python3.8/site-packages (from matplotlib>=3.4->mplhep) (4.43.1)\n",
      "Requirement already satisfied: kiwisolver>=1.0.1 in /Users/adinda/Library/jupyterlab-desktop/jlab_server/lib/python3.8/site-packages (from matplotlib>=3.4->mplhep) (1.4.5)\n",
      "Requirement already satisfied: pillow>=6.2.0 in /Users/adinda/Library/jupyterlab-desktop/jlab_server/lib/python3.8/site-packages (from matplotlib>=3.4->mplhep) (10.1.0)\n",
      "Requirement already satisfied: pyparsing>=2.3.1 in /Users/adinda/Library/jupyterlab-desktop/jlab_server/lib/python3.8/site-packages (from matplotlib>=3.4->mplhep) (3.1.1)\n",
      "Requirement already satisfied: python-dateutil>=2.7 in /Users/adinda/Library/jupyterlab-desktop/jlab_server/lib/python3.8/site-packages (from matplotlib>=3.4->mplhep) (2.8.2)\n",
      "Requirement already satisfied: importlib-resources>=3.2.0 in /Users/adinda/Library/jupyterlab-desktop/jlab_server/lib/python3.8/site-packages (from matplotlib>=3.4->mplhep) (6.1.0)\n",
      "Requirement already satisfied: zipp>=3.1.0 in /Users/adinda/Library/jupyterlab-desktop/jlab_server/lib/python3.8/site-packages (from importlib-resources>=3.2.0->matplotlib>=3.4->mplhep) (3.17.0)\n",
      "Requirement already satisfied: six>=1.5 in /Users/adinda/Library/jupyterlab-desktop/jlab_server/lib/python3.8/site-packages (from python-dateutil>=2.7->matplotlib>=3.4->mplhep) (1.16.0)\n",
      "Downloading mplhep-0.3.31-py3-none-any.whl (36 kB)\n",
      "Downloading uhi-0.4.0-py3-none-any.whl (11 kB)\n",
      "Installing collected packages: uhi, mplhep-data, mplhep\n",
      "Successfully installed mplhep-0.3.31 mplhep-data-0.0.3 uhi-0.4.0\n",
      "Note: you may need to restart the kernel to use updated packages.\n"
     ]
    }
   ],
   "source": [
    "%pip install numpy\n",
    "%pip install uproot awkward\n",
    "%pip install boost-histogram\n",
    "%pip install vector\n",
    "%pip install numba\n",
    "%pip install mplhep\n"
   ]
  },
  {
   "cell_type": "code",
   "execution_count": 2,
   "id": "bf0070e5-50ee-40ce-9ca4-d7405caa9857",
   "metadata": {},
   "outputs": [],
   "source": [
    "import uproot"
   ]
  },
  {
   "cell_type": "code",
   "execution_count": null,
   "id": "62c9c0bf-d2d6-46b6-bd83-9ad898c80645",
   "metadata": {},
   "outputs": [],
   "source": []
  }
 ],
 "metadata": {
  "kernelspec": {
   "display_name": "Python 3 (ipykernel)",
   "language": "python",
   "name": "python3"
  },
  "language_info": {
   "codemirror_mode": {
    "name": "ipython",
    "version": 3
   },
   "file_extension": ".py",
   "mimetype": "text/x-python",
   "name": "python",
   "nbconvert_exporter": "python",
   "pygments_lexer": "ipython3",
   "version": "3.8.18"
  }
 },
 "nbformat": 4,
 "nbformat_minor": 5
}
